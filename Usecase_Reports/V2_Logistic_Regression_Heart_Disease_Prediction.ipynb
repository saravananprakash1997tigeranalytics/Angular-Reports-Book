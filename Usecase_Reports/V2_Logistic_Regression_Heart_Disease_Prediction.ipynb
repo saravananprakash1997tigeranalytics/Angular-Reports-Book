{
 "cells": [
  {
   "cell_type": "markdown",
   "id": "1c94525f",
   "metadata": {},
   "source": [
    "### QEP Turing Report 2, Heart Disease Prediction using Logistic Regression and QEP Turing APIs"
   ]
  },
  {
   "cell_type": "markdown",
   "id": "f167fba0",
   "metadata": {},
   "source": [
    "### Lists all the available Projects, specific to the user"
   ]
  },
  {
   "cell_type": "code",
   "execution_count": 66,
   "id": "b08429fe",
   "metadata": {},
   "outputs": [
    {
     "name": "stdout",
     "output_type": "stream",
     "text": [
      "{'projects': ['Demo Project 1', 'Demo Project 2', 'Demo Project 3', 'Demo Project 4', 'Demo Project', 'tigertest', 'Power Generation Prediction', 'Power Generation Prediction using LinReg', 'Power Generation Prediction using LinReg Al', 'Power Generation Prediction using LinReg Al', 'Heart Disease Prediction using Logistic Regression', 'Heart Disease Prediction using Logistic Regression 2']}\n"
     ]
    }
   ],
   "source": [
    "import requests\n",
    "# GET Method\n",
    "response = requests.get(\"https://qep-turing-api.azurewebsites.net/projects/list\")\n",
    "print(response.json())"
   ]
  },
  {
   "cell_type": "markdown",
   "id": "edb69549",
   "metadata": {},
   "source": [
    "### Create  a Project"
   ]
  },
  {
   "cell_type": "code",
   "execution_count": 65,
   "id": "5c1c862f",
   "metadata": {},
   "outputs": [
    {
     "name": "stdout",
     "output_type": "stream",
     "text": [
      "{'message': 'Project Created Successfully'}\n"
     ]
    }
   ],
   "source": [
    "#Post Method\n",
    "response = requests.post(\"https://qep-turing-api.azurewebsites.net/projects/add\", \n",
    "                         json = {\"project_name\" : \"Heart Disease Prediction using Logistic Regression 2\", \"created_by\" : \"Prakash S\"})\n",
    "print(response.json())"
   ]
  },
  {
   "cell_type": "markdown",
   "id": "63104b13",
   "metadata": {},
   "source": [
    "### Upload the Source file dataset"
   ]
  },
  {
   "cell_type": "code",
   "execution_count": 73,
   "id": "38e12437",
   "metadata": {},
   "outputs": [
    {
     "data": {
      "text/plain": [
       "{'Message': 'File Uploaded Successfully'}"
      ]
     },
     "execution_count": 73,
     "metadata": {},
     "output_type": "execute_result"
    }
   ],
   "source": [
    "response = requests.post(\"http://127.0.0.1:8000/tables/file_upload\", files = {\"user_file\" : open(\"framingham.csv\", \"rb\")}, \n",
    "                        params = {\"project_id\" : \"13\", \"project_version\" : 1, \"table_name\": \"heart_disease\", \"created_by\" : \"Prakash S\"})\n",
    "response.json()"
   ]
  },
  {
   "cell_type": "markdown",
   "id": "e568ecf3",
   "metadata": {},
   "source": [
    "### List all the Source Tables Available "
   ]
  },
  {
   "cell_type": "code",
   "execution_count": 74,
   "id": "831e3e91",
   "metadata": {},
   "outputs": [
    {
     "name": "stdout",
     "output_type": "stream",
     "text": [
      "{'Tables': ['heart_disease']}\n"
     ]
    }
   ],
   "source": [
    "#GET Method\n",
    "response =  requests.get(\"https://qep-turing-api.azurewebsites.net/tables/list?type=Source&project_id=13&version=1\")\n",
    "print(response.json())"
   ]
  },
  {
   "cell_type": "markdown",
   "id": "ec313517",
   "metadata": {},
   "source": [
    "### List all the columns in the specified source table"
   ]
  },
  {
   "cell_type": "code",
   "execution_count": 76,
   "id": "dae9e9b5",
   "metadata": {},
   "outputs": [
    {
     "name": "stdout",
     "output_type": "stream",
     "text": [
      "{'columns': ['male', 'age', 'education', 'currentSmoker', 'cigsPerDay', 'BPMeds', 'prevalentStroke', 'prevalentHyp', 'diabetes', 'totChol', 'sysBP', 'diaBP', 'BMI', 'heartRate', 'glucose', 'TenYearCHD']}\n"
     ]
    }
   ],
   "source": [
    "# GET Method\n",
    "response =  requests.get(\"https://qep-turing-api.azurewebsites.net/tables/source/columns/list?table_name=heart_disease&project_id=13&project_version=1\")\n",
    "print(response.json())"
   ]
  },
  {
   "cell_type": "markdown",
   "id": "66b0ba8b",
   "metadata": {},
   "source": [
    "### Exploratory Data Analysis"
   ]
  },
  {
   "cell_type": "markdown",
   "id": "64196425",
   "metadata": {},
   "source": [
    "### Schema for EDA"
   ]
  },
  {
   "cell_type": "code",
   "execution_count": 85,
   "id": "91a05634",
   "metadata": {},
   "outputs": [],
   "source": [
    "eda_data  = {\n",
    "  \"name\": \"EDA\",\n",
    "  \"task_key\": \"task1\",\n",
    "  \"table_name\": \"heart_disease\",\n",
    "  \"target_column\": \"TenYearCHD\",\n",
    "  \"is_classification\": \"1\",\n",
    "  \"project_id\": \"13\",\n",
    "  \"version\": \"1\",\n",
    "  \"created_by\": \"4e6ca596-c969-47fd-9876-86b35b9dd917\"\n",
    "}"
   ]
  },
  {
   "cell_type": "markdown",
   "id": "c97a2b8f",
   "metadata": {},
   "source": [
    "### Job Creation for Exploratory Data Analysis"
   ]
  },
  {
   "cell_type": "code",
   "execution_count": 89,
   "id": "c06f84f6",
   "metadata": {},
   "outputs": [
    {
     "data": {
      "text/plain": [
       "{'message': 'Job Run triggered'}"
      ]
     },
     "execution_count": 89,
     "metadata": {},
     "output_type": "execute_result"
    }
   ],
   "source": [
    "response = requests.post(\"https://qep-turing-api.azurewebsites.net/eda/run\" , json  = eda_data)\n",
    "response.json()"
   ]
  },
  {
   "cell_type": "markdown",
   "id": "4a76fb05",
   "metadata": {},
   "source": [
    "### List all  the Transforms"
   ]
  },
  {
   "cell_type": "code",
   "execution_count": 17,
   "id": "ff77da6e",
   "metadata": {},
   "outputs": [
    {
     "name": "stdout",
     "output_type": "stream",
     "text": [
      "[{'transform_key': 'T1', 'transform_name': 'Drop null values'}, {'transform_key': 'T2', 'transform_name': 'Drop Duplicates'}, {'transform_key': 'T3', 'transform_name': 'Imputer'}, {'transform_key': 'T4', 'transform_name': 'Standard scaler'}, {'transform_key': 'T6', 'transform_name': 'Logarithmic Transform'}, {'transform_key': 'T7', 'transform_name': 'Reciprocal Transform'}, {'transform_key': 'T8', 'transform_name': 'OneHot Encoder'}, {'transform_key': 'T9', 'transform_name': 'Label Encoder'}, {'transform_key': 'T10', 'transform_name': 'MinMax scaler'}, {'transform_key': 'T11', 'transform_name': 'MaxAbs scaler'}, {'transform_key': 'T12', 'transform_name': 'Box-cox Transform'}, {'transform_key': 'T13', 'transform_name': 'Yeo-Johnson Transform'}, {'transform_key': 'T14', 'transform_name': 'Quantile Transformer'}, {'transform_key': 'T15', 'transform_name': 'Robust scaler'}, {'transform_key': 'T16', 'transform_name': 'Quantile Discretizer'}, {'transform_key': 'T17', 'transform_name': 'Vector Assembler'}, {'transform_key': 'T18', 'transform_name': 'Join'}, {'transform_key': 'T19', 'transform_name': 'Clipping'}, {'transform_key': 'T20', 'transform_name': 'Remove Sub string'}, {'transform_key': 'T21', 'transform_name': 'Cyclic Transform'}, {'transform_key': 'T22', 'transform_name': 'Grouping'}, {'transform_key': 'T233', 'transform_name': 'Remove column based on Threshold null percent'}, {'transform_key': 'T24', 'transform_name': 'Split currencies'}, {'transform_key': 'T25', 'transform_name': 'Variable Capping'}, {'transform_key': 'T26', 'transform_name': 'Standard Date'}, {'transform_key': 'T27', 'transform_name': 'Eliminate columns with high VIF (Variance inflation factor)'}, {'transform_key': 'T19', 'transform_name': 'concat columns'}, {'transform_key': 'T29', 'transform_name': 'Drop columns'}, {'transform_key': 'T30', 'transform_name': 'add columns'}, {'transform_key': 'T31', 'transform_name': 'Rename column'}, {'transform_key': 'T32', 'transform_name': 'Time Series interpolation'}, {'transform_key': 'T33', 'transform_name': 'Geodetic to Geocentric conversion'}, {'transform_key': 'T34', 'transform_name': 'distance_between_sphere'}, {'transform_key': 'T35', 'transform_name': 'Reshape wide to long'}, {'transform_key': 'T36', 'transform_name': 'Reshape long to wide'}, {'transform_key': 'T37', 'transform_name': 'calculate_stats_for_time_period'}, {'transform_key': 'T38', 'transform_name': 'distance_between_sphere'}]\n"
     ]
    }
   ],
   "source": [
    "#GET Method\n",
    "response =  requests.get(\"https://qep-turing-api.azurewebsites.net/transforms/list\")\n",
    "print(response.json())"
   ]
  },
  {
   "cell_type": "markdown",
   "id": "5ec73531",
   "metadata": {},
   "source": [
    "### Getting the schema  of  a particular Transform"
   ]
  },
  {
   "cell_type": "code",
   "execution_count": 20,
   "id": "61306845",
   "metadata": {},
   "outputs": [
    {
     "name": "stdout",
     "output_type": "stream",
     "text": [
      "{'_id': {'$oid': '622996fd2ca652af07530deb'}, 'transform_name': 'Standard scaler', 'transform_key': 'T4', 'version': '0.0.1', 'keys': ['numerical columns'], 'parameters': [{'key_name': 'numerical columns', 'key_type': 'List', 'key_description': 'Select the list of numerical columns  which need to be scaled', 'optional': False, 'custom_dropdown': False, 'dropdown_source': 'columns'}]}\n"
     ]
    }
   ],
   "source": [
    "#GET Method\n",
    "response = requests.get(\"https://qep-turing-api.azurewebsites.net/transforms/schema/list?transform_key=T4\")\n",
    "print(response.json())"
   ]
  },
  {
   "cell_type": "markdown",
   "id": "e21617d5",
   "metadata": {},
   "source": [
    "### Building the  Schema for Transforms"
   ]
  },
  {
   "cell_type": "code",
   "execution_count": 77,
   "id": "30f188e7",
   "metadata": {},
   "outputs": [
    {
     "data": {
      "text/plain": [
       "<Response [200]>"
      ]
     },
     "execution_count": 77,
     "metadata": {},
     "output_type": "execute_result"
    }
   ],
   "source": [
    "#POST Method\n",
    "transformation_data = {\n",
    "    \"project_id\": \"13\",\n",
    "    \"project_version\": 1,\n",
    "    \"Tasks\": [\n",
    "        {\n",
    "            \"task_key\": \"task0\",\n",
    "            \"task_type\": \"Data_Ingestion\",\n",
    "            \"table_name\": \"heart_disease\",\n",
    "            \"marker_name\": \"totChol\",\n",
    "            \"depends_on\": []\n",
    "        },\n",
    "            \n",
    "        {\n",
    "            \"task_key\": \"task1\",\n",
    "            \"task_type\": \"Transform\",\n",
    "            \"transform_info\": \"{'transformation_type':'T3','created_by':'Surya','columns':['glucose','totChol', 'cigsPerDay','BMI', 'heartRate'],'strategy':'mean','final_transform':false}\",\n",
    "            \"depends_on\": [\n",
    "                {\n",
    "                    \"task_key\": \"task0\"\n",
    "                }\n",
    "            ]\n",
    "        },\n",
    "        \n",
    "        {\n",
    "            \"task_key\": \"task2\",\n",
    "            \"task_type\": \"Transform\",\n",
    "            \"transform_info\": \"{'transformation_type':'T3','created_by':'Surya','columns':['education', 'BPMeds'],'strategy':'median','final_transform':false}\",\n",
    "            \"depends_on\": [\n",
    "                {\n",
    "                    \"task_key\": \"task1\"\n",
    "                }\n",
    "            ]\n",
    "        },\n",
    "                \n",
    "        {\n",
    "            \"task_key\": \"task3\",\n",
    "            \"task_type\": \"Transform\",\n",
    "            \"transform_info\": \"{'transformation_type':'T4','created_by':'Surya', 'columns':['cigsPerDay','totChol','sysBP','diaBP','BMI','heartRate','glucose','age'],'final_transform':true}\",\n",
    "            \"depends_on\": [\n",
    "                {\n",
    "                    \"task_key\": \"task2\"\n",
    "                }\n",
    "            ]\n",
    "        }\n",
    "    ],\n",
    "    \"quartz_cron_expression\": \"0 0/5 * * * ?\"\n",
    "}\n",
    "response=requests.post(\"http://127.0.0.1:8000/transforms/run\",json = transformation_data)\n",
    "response"
   ]
  },
  {
   "cell_type": "markdown",
   "id": "37fbcd7c",
   "metadata": {},
   "source": [
    "### Preview of the Transfomed Table"
   ]
  },
  {
   "cell_type": "code",
   "execution_count": 72,
   "id": "429235fb",
   "metadata": {},
   "outputs": [
    {
     "name": "stdout",
     "output_type": "stream",
     "text": [
      "{'records': [{'male': 1, 'age': 39, 'education': 4, 'currentSmoker': 0, 'cigsPerDay': 0, 'BPMeds': 0, 'prevalentStroke': 0, 'prevalentHyp': 0, 'diabetes': 0, 'totChol': 195, 'sysBP': 106.0, 'diaBP': 70.0, 'BMI': 26.97, 'heartRate': 80, 'glucose': 77, 'TenYearCHD': 0, 'features': [0.0, 4.399172211475177, 4.809852761538266, 5.87699470226495, 6.624985099391438, 6.652704518095031, 3.3715286088257965, 4.549611806205418]}, {'male': 0, 'age': 46, 'education': 2, 'currentSmoker': 0, 'cigsPerDay': 0, 'BPMeds': 0, 'prevalentStroke': 0, 'prevalentHyp': 0, 'diabetes': 0, 'totChol': 250, 'sysBP': 121.0, 'diaBP': 81.0, 'BMI': 28.73, 'heartRate': 95, 'glucose': 76, 'TenYearCHD': 0, 'features': [0.0, 5.639964373686125, 5.490492303265379, 6.8005224411922995, 7.057316347998369, 7.900086615237849, 3.32774252299689, 5.3662087970628]}, {'male': 1, 'age': 48, 'education': 1, 'currentSmoker': 1, 'cigsPerDay': 20, 'BPMeds': 0, 'prevalentStroke': 0, 'prevalentHyp': 0, 'diabetes': 0, 'totChol': 245, 'sysBP': 127.5, 'diaBP': 80.0, 'BMI': 25.34, 'heartRate': 75, 'glucose': 70, 'TenYearCHD': 0, 'features': [1.6836107760513799, 5.527165086212402, 5.785436104680461, 6.716565374017086, 6.224587408920246, 6.236910485714091, 3.0650260080234513, 5.599522223022052]}, {'male': 0, 'age': 61, 'education': 3, 'currentSmoker': 1, 'cigsPerDay': 30, 'BPMeds': 0, 'prevalentStroke': 0, 'prevalentHyp': 1, 'diabetes': 0, 'totChol': 225, 'sysBP': 150.0, 'diaBP': 95.0, 'BMI': 28.58, 'heartRate': 65, 'glucose': 103, 'TenYearCHD': 1, 'features': [2.52541616407707, 5.075967936317512, 6.806395417271131, 7.97592138164529, 7.020469934764823, 5.405322420952213, 4.509966840377364, 7.116059491757191]}, {'male': 0, 'age': 46, 'education': 3, 'currentSmoker': 1, 'cigsPerDay': 23, 'BPMeds': 0, 'prevalentStroke': 0, 'prevalentHyp': 0, 'diabetes': 0, 'totChol': 285, 'sysBP': 130.0, 'diaBP': 84.0, 'BMI': 23.1, 'heartRate': 85, 'glucose': 85, 'TenYearCHD': 0, 'features': [1.9361523924590869, 6.429559386002182, 5.898876028301647, 7.052393642717941, 5.674347637965971, 7.06849855047597, 3.721817295457048, 5.3662087970628]}]}\n"
     ]
    }
   ],
   "source": [
    "#GET Method\n",
    "response=requests.get(\"https://qep-turing-api.azurewebsites.net/tables/tranformed/preview?project_id=6&version=2&table_name=task3&size=5\")\n",
    "print(response.json())"
   ]
  },
  {
   "cell_type": "code",
   "execution_count": null,
   "id": "68f87291",
   "metadata": {},
   "outputs": [],
   "source": []
  },
  {
   "cell_type": "markdown",
   "id": "a4755432",
   "metadata": {},
   "source": [
    "### Model Training Module"
   ]
  },
  {
   "cell_type": "markdown",
   "id": "65100ae8",
   "metadata": {},
   "source": [
    "### List of all the Transformed Tables for the given Project Id and Project Version"
   ]
  },
  {
   "cell_type": "code",
   "execution_count": 32,
   "id": "fb159e86",
   "metadata": {},
   "outputs": [
    {
     "data": {
      "text/plain": [
       "{'Tables': ['task3']}"
      ]
     },
     "execution_count": 32,
     "metadata": {},
     "output_type": "execute_result"
    }
   ],
   "source": [
    "response =  requests.get(\"https://qep-turing-api.azurewebsites.net/tables/list?type=Transformed&project_id=6&version=2\")\n",
    "response.json()"
   ]
  },
  {
   "cell_type": "markdown",
   "id": "6c37e949",
   "metadata": {},
   "source": [
    "### List all the Columns of the Specific Transformed Table"
   ]
  },
  {
   "cell_type": "code",
   "execution_count": 34,
   "id": "a72744a9",
   "metadata": {},
   "outputs": [
    {
     "data": {
      "text/plain": [
       "{'columns': ['male',\n",
       "  'age',\n",
       "  'education',\n",
       "  'currentSmoker',\n",
       "  'cigsPerDay',\n",
       "  'BPMeds',\n",
       "  'prevalentStroke',\n",
       "  'prevalentHyp',\n",
       "  'diabetes',\n",
       "  'totChol',\n",
       "  'sysBP',\n",
       "  'diaBP',\n",
       "  'BMI',\n",
       "  'heartRate',\n",
       "  'glucose',\n",
       "  'TenYearCHD',\n",
       "  'features']}"
      ]
     },
     "execution_count": 34,
     "metadata": {},
     "output_type": "execute_result"
    }
   ],
   "source": [
    "response  = requests.get(\"https://qep-turing-api.azurewebsites.net/tables/transformed/columns/list?table_name=task3&project_id=6&version=2\")\n",
    "response.json()"
   ]
  },
  {
   "cell_type": "markdown",
   "id": "58ab2e95",
   "metadata": {},
   "source": [
    "### List of all the Models"
   ]
  },
  {
   "cell_type": "code",
   "execution_count": 57,
   "id": "f97b64cb",
   "metadata": {},
   "outputs": [
    {
     "name": "stdout",
     "output_type": "stream",
     "text": [
      "[{'model_key': 'M1', 'model': 'Logistic Regression'}, {'model_key': 'M2', 'model': 'Random Forest'}, {'model_key': 'M3', 'model': 'Linear Regression'}, {'model_key': 'M5', 'model': 'AutoML Regression'}, {'model_key': 'M6', 'model': 'AutoML Classification'}, {'model_key': 'M00', 'model': 'Linear Regression Demo'}, {'model_key': 'M00', 'model': 'Linear Regression Demo'}, {'model_key': 'M00', 'model': 'Linear Regression Demo'}]\n"
     ]
    }
   ],
   "source": [
    "response=requests.get(\"https://qep-turing-api.azurewebsites.net/models/list\")\n",
    "print(response.json())"
   ]
  },
  {
   "cell_type": "markdown",
   "id": "99f281b8",
   "metadata": {},
   "source": [
    "### Get a Particular Model\n"
   ]
  },
  {
   "cell_type": "code",
   "execution_count": 58,
   "id": "bc079658",
   "metadata": {},
   "outputs": [
    {
     "name": "stdout",
     "output_type": "stream",
     "text": [
      "{'_id': {'$oid': '6228b1a3af62bde984049d82'}, 'model': 'Linear Regression', 'model_key': 'M3', 'version': '0.1.0', 'keys': ['source', 'target column', 'Train split ratio', 'maxIter', 'regParam', 'elasticNetParam', 'tol', 'fitIntercept', 'standardization', 'solver', 'weightCol', 'aggregationDepth', 'loss', 'epsilon', 'maxBlockSizeInMB'], 'parameters': [{'key_name': 'source', 'key_type': 'string', 'key_description': 'Select the name of the table that needs to passed for the model train', 'optional': False, 'custom_dropdown': False, 'dropdown_source': 'tables'}, {'key_name': 'target column', 'key_type': 'string', 'key_description': 'Select the name of the target column that needs to passed for the model train', 'optional': False, 'custom_dropdown': False, 'dropdown_source': 'columns'}, {'key_name': 'Train split ratio', 'key_type': 'float', 'key_description': 'Enter split ratio of the dataset for model train', 'optional': False}, {'key_name': 'maxIter', 'key_type': 'integer', 'key_description': 'Enter the maximum number of iterations', 'optional': True}, {'key_name': 'regParam', 'key_type': 'float', 'key_description': 'Enter the Regularization Parameter', 'optional': True}, {'key_name': 'elasticNetParam', 'key_type': 'float', 'key_description': 'Enter the ElasticNet mixing parameter', 'optional': True}, {'key_name': 'tol', 'key_type': 'float', 'key_description': 'Enter the convergence tolerance for iterative algorithms (>= 0)', 'optional': True}, {'key_name': 'fitIntercept', 'key_type': 'boolean', 'key_description': 'Enter whether to fit an intercept term', 'optional': True, 'custom_dropdown': True, 'options': [{'name': True}, {'name': False}]}, {'key_name': 'standardization', 'key_type': 'boolean', 'key_description': 'Enter whether to standardize the training features before fitting the model.', 'optional': True, 'custom_dropdown': True, 'options': [{'name': True}, {'name': False}]}, {'key_name': 'solver', 'key_type': 'string', 'key_description': 'Enter the solver algorithm for optimization', 'optional': True, 'custom_dropdown': True, 'options': [{'name': 'auto'}, {'name': 'normal'}, {'name': 'l-bfgs'}]}, {'key_name': 'weightCol', 'key_type': 'string', 'key_description': 'Enter the weight column name. If this is not set or empty, we treat all instance weights as 1.0.', 'optional': True, 'custom_dropdown': False, 'dropdown_source': 'columns'}, {'key_name': 'aggregationDepth', 'key_type': 'integer', 'key_description': 'Enter suggested depth for treeAggregate (>= 2)', 'optional': True}, {'key_name': 'loss', 'key_type': 'string', 'key_description': 'Enter the loss function to be optimized', 'optional': True, 'custom_dropdown': True, 'options': [{'name': 'squaredError'}, {'name': 'huber'}]}, {'key_name': 'epsilon', 'key_type': 'float', 'key_description': 'Enter the shape parameter to control the amount of robustness. Must be > 1.0. Only valid when loss is huber', 'optional': True}, {'key_name': 'maxBlockSizeInMB', 'key_type': 'float', 'key_description': 'Enter maximum memory in MB for stacking input data into blocks. Data is stacked within partitions. If more than remaining data size in a partition then it is adjusted to the data size. Default 0.0 represents choosing optimal value, depends on specific algorithm. Must be >= 0.', 'optional': True}]}\n"
     ]
    }
   ],
   "source": [
    "response=requests.get(\"https://qep-turing-api.azurewebsites.net/models/schema/list?model_key=M3\")\n",
    "print(response.json())"
   ]
  },
  {
   "cell_type": "markdown",
   "id": "67ca0426",
   "metadata": {},
   "source": [
    "### Schema for model Training"
   ]
  },
  {
   "cell_type": "code",
   "execution_count": 78,
   "id": "defd09e6",
   "metadata": {},
   "outputs": [],
   "source": [
    "training_data = {\n",
    "  \"project_id\": \"13\",\n",
    "  \"project_version\": 1,\n",
    "  \"model_key\": \"M1\",\n",
    "  \"model_name\": \"Logistic_Regression_for_Heart_Disease_Prediction\",\n",
    "  \"feature_column\": \"features\",\n",
    "  \"target_column\": \"TenYearCHD\",\n",
    "  \"train_split_ratio\": 0.8,\n",
    "  \"transformed_table_name\": \"task3\",\n",
    "  \"hyperparameters\": {}\n",
    "}\n"
   ]
  },
  {
   "cell_type": "markdown",
   "id": "b5da68bd",
   "metadata": {},
   "source": [
    "### Model Training\n"
   ]
  },
  {
   "cell_type": "code",
   "execution_count": 79,
   "id": "94977ec1",
   "metadata": {},
   "outputs": [
    {
     "data": {
      "text/plain": [
       "<Response [200]>"
      ]
     },
     "execution_count": 79,
     "metadata": {},
     "output_type": "execute_result"
    }
   ],
   "source": [
    "response=requests.post(\"https://qep-turing-api.azurewebsites.net/model_train/run\",json = training_data)\n",
    "response "
   ]
  },
  {
   "cell_type": "markdown",
   "id": "a7b40ff0",
   "metadata": {},
   "source": [
    "### Metric of the Model Trained "
   ]
  },
  {
   "cell_type": "code",
   "execution_count": 96,
   "id": "aa5d1db6",
   "metadata": {},
   "outputs": [
    {
     "data": {
      "text/plain": [
       "{'run': {'info': {'run_uuid': 'ed01a1fbfe2642a48db7609ac19d070f',\n",
       "   'experiment_id': '3178308932673324',\n",
       "   'status': 'FINISHED',\n",
       "   'start_time': 1647523708119,\n",
       "   'end_time': 1647523806467,\n",
       "   'artifact_uri': 'dbfs:/databricks/mlflow-tracking/3178308932673324/ed01a1fbfe2642a48db7609ac19d070f/artifacts',\n",
       "   'lifecycle_stage': 'active',\n",
       "   'run_id': 'ed01a1fbfe2642a48db7609ac19d070f'},\n",
       "  'data': {'metrics': [{'key': 'Accuracy',\n",
       "     'value': 0.8612244897959184,\n",
       "     'timestamp': 1647523799092,\n",
       "     'step': 0},\n",
       "    {'key': 'F1',\n",
       "     'value': 0.8080360694692797,\n",
       "     'timestamp': 1647523799411,\n",
       "     'step': 0},\n",
       "    {'key': 'Test Error',\n",
       "     'value': 0.13877551020408163,\n",
       "     'timestamp': 1647523799241,\n",
       "     'step': 0},\n",
       "    {'key': 'Weighted Precision',\n",
       "     'value': 0.8553769915849065,\n",
       "     'timestamp': 1647523799549,\n",
       "     'step': 0}],\n",
       "   'tags': [{'key': 'mlflow.databricks.cluster.id',\n",
       "     'value': '0118-060153-orupo48j'},\n",
       "    {'key': 'mlflow.databricks.cluster.info',\n",
       "     'value': '{\"cluster_name\":\"qep-turing\",\"spark_version\":\"9.1.x-cpu-ml-scala2.12\",\"node_type_id\":\"Standard_DS3_v2\",\"driver_node_type_id\":\"Standard_DS3_v2\",\"autotermination_minutes\":120,\"disk_spec\":{},\"autoscale\":{\"min_workers\":1,\"max_workers\":4,\"target_workers\":1}}'},\n",
       "    {'key': 'mlflow.databricks.cluster.libraries',\n",
       "     'value': '{\"installable\":[{\"whl\":\"dbfs:/FileStore/jars/191a8043_a5cc_41ca_b07f_e1f73ddb1364/ta_lib-0.2.0.dev0-py2.py3-none-any.whl\"},{\"pypi\":{\"package\":\"hvplot\"}},{\"pypi\":{\"package\":\"pyspark-dist-explore\"}},{\"pypi\":{\"package\":\"cytoolz\"}},{\"pypi\":{\"package\":\"fsspec\"}},{\"pypi\":{\"package\":\"pyyaml==5.4.1\"}},{\"pypi\":{\"package\":\"configparser\"}},{\"pypi\":{\"package\":\"pyjanitor\"}},{\"pypi\":{\"package\":\"mlflow\"}},{\"whl\":\"dbfs:/FileStore/jars/081b9495_9763_4300_b239_924b6a8729b6/tigerml.core-0.3.7-py3-none-any.whl\"},{\"whl\":\"dbfs:/FileStore/jars/f2ce5d5b_6036_4e6c_b83c_ac9855bb8d1a/tigerml.automl-0.3.7-py3-none-any.whl\"},{\"whl\":\"dbfs:/FileStore/jars/fa020490_0652_4215_9e91_1aa4eaf309d5/tigerml.eda-0.3.7-py3-none-any.whl\"},{\"whl\":\"dbfs:/FileStore/jars/e8ce1174_48c2_4e2d_ac9e_e6311e716dd9/tigerml.model_eval-0.3.7-py3-none-any.whl\"},{\"whl\":\"dbfs:/FileStore/jars/44b6e353_6cb8_410c_becd_fb4ac7fc21ac/tigerml.viz-0.3.7-py3-none-any.whl\"},{\"pypi\":{\"package\":\"azure-storage-blob\"}},{\"pypi\":{\"package\":\"azure-storage-file\"}},{\"pypi\":{\"package\":\"azure-storage-queue\"}},{\"whl\":\"dbfs:/FileStore/jars/32d9eece_0aff_4366_802a_05934e8170ab/utils-0.2-py3-none-any.whl\"},{\"whl\":\"dbfs:/FileStore/jars/e414e3e8_a02b_4610_abf0_0ae274eb4781/tigerml.pyspark.core-0.3.7-py3-none-any.whl\"},{\"whl\":\"dbfs:/FileStore/jars/699c2e16_b9ca_499b_9958_36df61bda1de/tigerml.pyspark.eda-0.3.7-py3-none-any.whl\"},{\"whl\":\"dbfs:/FileStore/jars/f46b4c9d_1c0a_4270_829b_f69edb0f0b74/tigerml.pyspark.model_eval-0.3.7-py3-none-any.whl\"},{\"whl\":\"dbfs:/FileStore/jars/0f88cdfb_8fcd_4633_98b2_5b165581d5f8/Tiger_fx-0.1.0-py3-none-any.whl\"},{\"pypi\":{\"package\":\"elephas\"}}],\"redacted\":[]}'},\n",
       "    {'key': 'mlflow.databricks.jobID', 'value': '14036'},\n",
       "    {'key': 'mlflow.databricks.jobRunID', 'value': '2322766'},\n",
       "    {'key': 'mlflow.databricks.jobType', 'value': 'notebook'},\n",
       "    {'key': 'mlflow.databricks.notebook.commandID',\n",
       "     'value': '2961340315340411810_5390029571295197423_job-14036-run-2322766-action-8306369398566818'},\n",
       "    {'key': 'mlflow.databricks.webappURL',\n",
       "     'value': 'https://eastus-c3.azuredatabricks.net'},\n",
       "    {'key': 'mlflow.databricks.workspaceID', 'value': '3450077387585680'},\n",
       "    {'key': 'mlflow.databricks.workspaceURL',\n",
       "     'value': 'adb-3450077387585680.0.azuredatabricks.net'},\n",
       "    {'key': 'mlflow.log-model.history',\n",
       "     'value': '[{\"artifact_path\":\"Logistic_Regression_for_Heart_Disease_Prediction\",\"flavors\":{\"spark\":{\"pyspark_version\":\"3.1.2\",\"model_data\":\"sparkml\"},\"python_function\":{\"loader_module\":\"mlflow.spark\",\"python_version\":\"3.8.10\",\"data\":\"sparkml\",\"env\":\"conda.yaml\"}},\"run_id\":\"ed01a1fbfe2642a48db7609ac19d070f\",\"model_uuid\":\"e3b368ecd15e4299a5203a057dc65fe5\",\"utc_time_created\":\"2022-03-17 13:28:32.096556\",\"databricks_runtime\":\"9.1.x-cpu-ml-scala2.12\"},{\"artifact_path\":\"Logistic_Regression_for_Heart_Disease_Prediction\",\"flavors\":{\"spark\":{\"pyspark_version\":\"3.1.2\",\"model_data\":\"sparkml\"},\"python_function\":{\"loader_module\":\"mlflow.spark\",\"python_version\":\"3.8.10\",\"data\":\"sparkml\",\"env\":\"conda.yaml\"}},\"run_id\":\"ed01a1fbfe2642a48db7609ac19d070f\",\"model_uuid\":\"05d3dd08176f4dc1ac34345f8841f363\",\"utc_time_created\":\"2022-03-17 13:29:04.021805\",\"databricks_runtime\":\"9.1.x-cpu-ml-scala2.12\"}]'},\n",
       "    {'key': 'mlflow.runName', 'value': 'online'},\n",
       "    {'key': 'mlflow.source.name', 'value': 'jobs/14036/run/2322766'},\n",
       "    {'key': 'mlflow.source.type', 'value': 'JOB'},\n",
       "    {'key': 'mlflow.user', 'value': 'suryakumar.sures@tigeranalytics.com'}]}}}"
      ]
     },
     "execution_count": 96,
     "metadata": {},
     "output_type": "execute_result"
    }
   ],
   "source": [
    "#GET Method\n",
    "response = requests.get(\"https://qep-turing-api.azurewebsites.net/mlflow/run/detail_list?project_id=13&project_version=1\")\n",
    "response.json()"
   ]
  },
  {
   "cell_type": "code",
   "execution_count": 51,
   "id": "cd20ef0c",
   "metadata": {},
   "outputs": [],
   "source": []
  }
 ],
 "metadata": {
  "kernelspec": {
   "display_name": "Python 3 (ipykernel)",
   "language": "python",
   "name": "python3"
  },
  "language_info": {
   "codemirror_mode": {
    "name": "ipython",
    "version": 3
   },
   "file_extension": ".py",
   "mimetype": "text/x-python",
   "name": "python",
   "nbconvert_exporter": "python",
   "pygments_lexer": "ipython3",
   "version": "3.9.7"
  }
 },
 "nbformat": 4,
 "nbformat_minor": 5
}
