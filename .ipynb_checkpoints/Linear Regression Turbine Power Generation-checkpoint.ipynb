{
 "cells": [
  {
   "cell_type": "markdown",
   "id": "50df5d93",
   "metadata": {},
   "source": [
    "### QEP Turing"
   ]
  },
  {
   "cell_type": "markdown",
   "id": "3c05b467",
   "metadata": {},
   "source": [
    "### Lists all the Projects"
   ]
  },
  {
   "cell_type": "code",
   "execution_count": 53,
   "id": "24e2a90b",
   "metadata": {},
   "outputs": [
    {
     "name": "stdout",
     "output_type": "stream",
     "text": [
      "{'projects': ['Demo Project 1', 'Demo Project 2', 'Demo Project 3', 'Demo Project 4', 'Demo Project', 'tigertest', 'Power Generation Prediction', 'Power Generation Prediction using LinReg', 'Power Generation Prediction using LinReg Al']}\n"
     ]
    }
   ],
   "source": [
    "import requests\n",
    "# GET Method\n",
    "response = requests.get(\"https://qep-turing-api.azurewebsites.net/projects/list\")\n",
    "print(response.json())"
   ]
  },
  {
   "cell_type": "markdown",
   "id": "7ad2b119",
   "metadata": {},
   "source": [
    "### Create a Project"
   ]
  },
  {
   "cell_type": "code",
   "execution_count": 2,
   "id": "3bae40de",
   "metadata": {},
   "outputs": [
    {
     "name": "stdout",
     "output_type": "stream",
     "text": [
      "{'message': 'Data Posted Successfully'}\n"
     ]
    }
   ],
   "source": [
    "#Post Method\n",
    "response = requests.post(\"https://qep-turing-api.azurewebsites.net/projects/add\", \n",
    "                         json = {\"project_name\" : \"Power Generation Prediction using LinReg Al\", \"created_by\" : \"Prakash S\"})\n",
    "print(response.json())"
   ]
  },
  {
   "cell_type": "markdown",
   "id": "efd2a58d",
   "metadata": {},
   "source": [
    "### List all the Source Tables"
   ]
  },
  {
   "cell_type": "code",
   "execution_count": 73,
   "id": "9e0c9b72",
   "metadata": {},
   "outputs": [
    {
     "name": "stdout",
     "output_type": "stream",
     "text": [
      "{'Tables': ['Power_Generated']}\n"
     ]
    }
   ],
   "source": [
    "#GET Method\n",
    "response =  requests.get(\"https://qep-turing-api.azurewebsites.net/tables/list?type=Source&project_id=e1365807-1907-4ffc-b475-ef2fe98f60eb&version=1\")\n",
    "print(response.json())"
   ]
  },
  {
   "cell_type": "markdown",
   "id": "1aaeff8a",
   "metadata": {},
   "source": [
    "### List the columns of  a particular source Table"
   ]
  },
  {
   "cell_type": "code",
   "execution_count": 61,
   "id": "95dd348e",
   "metadata": {},
   "outputs": [
    {
     "name": "stdout",
     "output_type": "stream",
     "text": [
      "{'columns': ['DATE_TIME', 'PLANT_ID', 'SOURCE_KEY', 'DC_POWER', 'AC_POWER', 'DAILY_YIELD', 'TOTAL_YIELD', '_c0']}\n"
     ]
    }
   ],
   "source": [
    "# GET Method\n",
    "response =  requests.get(\"https://qep-turing-api.azurewebsites.net/tables/source/columns/list?table_name=Power_Generated\")\n",
    "print(response.json())"
   ]
  },
  {
   "cell_type": "markdown",
   "id": "195166ea",
   "metadata": {},
   "source": [
    "### List all the Transforms"
   ]
  },
  {
   "cell_type": "code",
   "execution_count": 8,
   "id": "a43de2d6",
   "metadata": {},
   "outputs": [
    {
     "name": "stdout",
     "output_type": "stream",
     "text": [
      "{'transforms': ['Drop null values', 'Drop Duplicates', 'Imputer', 'Standard scaler', 'Logarithmic Transform', 'Reciprocal Transform', 'OneHot Encoder', 'Label Encoder', 'MinMax scaler', 'MaxAbs scaler', 'Box-cox Transform', 'Yeo-Johnson Transform', 'Quantile Transformer', 'Robust scaler', 'Quantile Discretizer', 'Vector Assembler', 'Join', 'Clipping', 'Remove Sub string', 'Cyclic Transform', 'Grouping', 'Remove column based on Threshold null percent', 'Split currencies', 'Variable Capping', 'Standard Date', 'Eliminate columns with high VIF (Variance inflation factor)', 'concat columns', 'Drop columns', 'add columns', 'Rename column', 'Time Series interpolation', 'Geodetic to Geocentric conversion', 'distance_between_sphere', 'Reshape wide to long', 'Reshape long to wide', 'calculate_stats_for_time_period', 'distance_between_sphere']}\n"
     ]
    }
   ],
   "source": [
    "#GET Method\n",
    "response =  requests.get(\"https://qep-turing-api.azurewebsites.net/transforms/list\")\n",
    "print(response.json())"
   ]
  },
  {
   "cell_type": "markdown",
   "id": "3e4a12be",
   "metadata": {},
   "source": [
    "### List all the Transforms and their Keys"
   ]
  },
  {
   "cell_type": "code",
   "execution_count": 80,
   "id": "719f3900",
   "metadata": {},
   "outputs": [
    {
     "name": "stdout",
     "output_type": "stream",
     "text": [
      "[{'transform_key': 'T1', 'transform_name': 'Drop null values'}, {'transform_key': 'T2', 'transform_name': 'Drop Duplicates'}, {'transform_key': 'T3', 'transform_name': 'Imputer'}, {'transform_key': 'T4', 'transform_name': 'Standard scaler'}, {'transform_key': 'T6', 'transform_name': 'Logarithmic Transform'}, {'transform_key': 'T7', 'transform_name': 'Reciprocal Transform'}, {'transform_key': 'T8', 'transform_name': 'OneHot Encoder'}, {'transform_key': 'T9', 'transform_name': 'Label Encoder'}, {'transform_key': 'T10', 'transform_name': 'MinMax scaler'}, {'transform_key': 'T11', 'transform_name': 'MaxAbs scaler'}, {'transform_key': 'T12', 'transform_name': 'Box-cox Transform'}, {'transform_key': 'T13', 'transform_name': 'Yeo-Johnson Transform'}, {'transform_key': 'T14', 'transform_name': 'Quantile Transformer'}, {'transform_key': 'T15', 'transform_name': 'Robust scaler'}, {'transform_key': 'T16', 'transform_name': 'Quantile Discretizer'}, {'transform_key': 'T17', 'transform_name': 'Vector Assembler'}, {'transform_key': 'T18', 'transform_name': 'Join'}, {'transform_key': 'T19', 'transform_name': 'Clipping'}, {'transform_key': 'T20', 'transform_name': 'Remove Sub string'}, {'transform_key': 'T21', 'transform_name': 'Cyclic Transform'}, {'transform_key': 'T22', 'transform_name': 'Grouping'}, {'transform_key': 'T233', 'transform_name': 'Remove column based on Threshold null percent'}, {'transform_key': 'T24', 'transform_name': 'Split currencies'}, {'transform_key': 'T25', 'transform_name': 'Variable Capping'}, {'transform_key': 'T26', 'transform_name': 'Standard Date'}, {'transform_key': 'T27', 'transform_name': 'Eliminate columns with high VIF (Variance inflation factor)'}, {'transform_key': 'T19', 'transform_name': 'concat columns'}, {'transform_key': 'T29', 'transform_name': 'Drop columns'}, {'transform_key': 'T30', 'transform_name': 'add columns'}, {'transform_key': 'T31', 'transform_name': 'Rename column'}, {'transform_key': 'T32', 'transform_name': 'Time Series interpolation'}, {'transform_key': 'T33', 'transform_name': 'Geodetic to Geocentric conversion'}, {'transform_key': 'T34', 'transform_name': 'distance_between_sphere'}, {'transform_key': 'T35', 'transform_name': 'Reshape wide to long'}, {'transform_key': 'T36', 'transform_name': 'Reshape long to wide'}, {'transform_key': 'T37', 'transform_name': 'calculate_stats_for_time_period'}, {'transform_key': 'T38', 'transform_name': 'distance_between_sphere'}]\n"
     ]
    }
   ],
   "source": [
    "#GET Method\n",
    "response = requests.get(\"https://qep-turing-api.azurewebsites.net/transforms/list\")\n",
    "print(response.json())"
   ]
  },
  {
   "cell_type": "markdown",
   "id": "0572575e",
   "metadata": {},
   "source": [
    "### Get a Particular Transform Schema"
   ]
  },
  {
   "cell_type": "code",
   "execution_count": 16,
   "id": "04208390",
   "metadata": {},
   "outputs": [
    {
     "name": "stdout",
     "output_type": "stream",
     "text": [
      "{'_id': {'$oid': '622997088030a1192236ccc4'}, 'transform_name': 'MinMax scaler', 'transform_key': 'T10', 'version': '0.0.1', 'keys': ['numerical columns'], 'parameters': [{'key_name': 'numerical columns', 'key_type': 'List', 'key_description': 'Select the list of numerical columns  which need to be scaled', 'optional': False, 'custom_dropdown': False, 'dropdown_source': 'columns'}]}\n"
     ]
    }
   ],
   "source": [
    "#GET Method\n",
    "response = requests.get(\"https://qep-turing-api.azurewebsites.net/transforms/schema/list?transform_key=T10\")\n",
    "print(response.json())"
   ]
  },
  {
   "cell_type": "markdown",
   "id": "0c1fa6b9",
   "metadata": {},
   "source": [
    " ### Job Creation for Transformation"
   ]
  },
  {
   "cell_type": "code",
   "execution_count": 64,
   "id": "5b8b71b7",
   "metadata": {},
   "outputs": [
    {
     "data": {
      "text/plain": [
       "<Response [200]>"
      ]
     },
     "execution_count": 64,
     "metadata": {},
     "output_type": "execute_result"
    }
   ],
   "source": [
    "#POST Method\n",
    "transformation_data = {\n",
    "    \"project_id\": \"4\",\n",
    "    \"project_version\": 4,\n",
    "    \"Tasks\": [\n",
    "        {\n",
    "            \"task_key\": \"task0\",\n",
    "            \"task_type\": \"Data_Ingestion\",\n",
    "            \"table_name\": \"Turbine_Data\",\n",
    "            \"marker_name\": \"_c0\",\n",
    "            \"depends_on\": []\n",
    "        },\n",
    "        {\n",
    "            \"task_key\": \"task1\",\n",
    "            \"task_type\": \"Transform\",\n",
    "            \"transform_info\": \"{'transformation_type':'T29','created_by':'Surya', 'columns':['WTG','ControlBoxTemperature', '_c0'],'final_transform':false}\",\n",
    "            \"depends_on\": [\n",
    "                {\n",
    "                    \"task_key\": \"task0\"\n",
    "                }\n",
    "            ]\n",
    "        },\n",
    "        {\n",
    "            \"task_key\": \"task2\",\n",
    "            \"task_type\": \"Transform\",\n",
    "            \"transform_info\": \"{'transformation_type':'T1','created_by':'Surya','columns':'none','how':'any','final_transform':false}\",\n",
    "            \"depends_on\": [\n",
    "                {\n",
    "                    \"task_key\": \"task1\"\n",
    "                }\n",
    "            ]\n",
    "        },\n",
    "        {\n",
    "            \"task_key\": \"task3\",\n",
    "            \"task_type\": \"Transform\",\n",
    "            \"transform_info\": \"{'transformation_type':'T10','created_by':'Surya', 'columns':['AmbientTemperatue','BearingShaftTemperature','Blade1PitchAngle','Blade2PitchAngle','Blade3PitchAngle','GearboxBearingTemperature','GearboxOilTemperature','GeneratorRPM','GeneratorWinding1Temperature','GeneratorWinding2Temperature','HubTemperature','MainBoxTemperature','NacellePosition','ReactivePower','RotorRPM','TurbineStatus','WindDirection','WindSpeed'],'final_transform':true}\",\n",
    "            \"depends_on\": [\n",
    "                {\n",
    "                    \"task_key\": \"task2\"\n",
    "                }\n",
    "            ]\n",
    "        }\n",
    "    ],\n",
    "    \"quartz_cron_expression\": \"0 0/5 * * * ?\"\n",
    "}\n",
    "response=requests.post(\"https://qep-turing-api.azurewebsites.net/transforms/run\",json = transformation_data)\n",
    "response"
   ]
  },
  {
   "cell_type": "code",
   "execution_count": null,
   "id": "b278dc78",
   "metadata": {},
   "outputs": [],
   "source": []
  },
  {
   "cell_type": "code",
   "execution_count": null,
   "id": "b56706d0",
   "metadata": {},
   "outputs": [],
   "source": []
  },
  {
   "cell_type": "markdown",
   "id": "d5446f72",
   "metadata": {},
   "source": [
    "### List all the Transformend Tables"
   ]
  },
  {
   "cell_type": "code",
   "execution_count": 78,
   "id": "7ec67beb",
   "metadata": {},
   "outputs": [
    {
     "name": "stdout",
     "output_type": "stream",
     "text": [
      "{'Tables': ['task3', 'task3', 'task3', 'task3', 'task3', 'task3', 'task3', 'task3', 'task3', 'task3', 'task3', 'task3']}\n"
     ]
    }
   ],
   "source": [
    "# GET Method\n",
    "response =  requests.get(\"https://qep-turing-api.azurewebsites.net/tables/list?type=Transformed&project_id=4&version=4\")\n",
    "print(response.json())"
   ]
  },
  {
   "cell_type": "markdown",
   "id": "6e680b39",
   "metadata": {},
   "source": [
    "### Preview of Transformed Table"
   ]
  },
  {
   "cell_type": "code",
   "execution_count": 67,
   "id": "777b7eef",
   "metadata": {},
   "outputs": [
    {
     "name": "stdout",
     "output_type": "stream",
     "text": [
      "{'message': 'Failed to apply transaction log: Invalid JSON in log record'}\n"
     ]
    }
   ],
   "source": [
    "#GET Method\n",
    "response=requests.get(\"https://qep-turing-api.azurewebsites.net/tables/tranformed/preview?project_id=4&version=4&table_name=task3&size=10\")\n",
    "print(response.json())"
   ]
  },
  {
   "cell_type": "markdown",
   "id": "c8ab23db",
   "metadata": {},
   "source": [
    "### List of all the Models"
   ]
  },
  {
   "cell_type": "code",
   "execution_count": 26,
   "id": "895b36d8",
   "metadata": {},
   "outputs": [
    {
     "name": "stdout",
     "output_type": "stream",
     "text": [
      "{'models': ['Logistic Regression', 'Random Forest', 'Linear Regression', 'AutoML Regression', 'AutoML Classification', 'Linear Regression Demo', 'Linear Regression Demo', 'Linear Regression Demo']}\n"
     ]
    }
   ],
   "source": [
    "response=requests.get(\"https://qep-turing-api.azurewebsites.net/models/list\")\n",
    "print(response.json())"
   ]
  },
  {
   "cell_type": "markdown",
   "id": "ed78f3ec",
   "metadata": {},
   "source": [
    "### List the columns of the Transformed Table"
   ]
  },
  {
   "cell_type": "code",
   "execution_count": 66,
   "id": "9c75493a",
   "metadata": {},
   "outputs": [
    {
     "data": {
      "text/plain": [
       "{'message': 'Failed to apply transaction log: Invalid JSON in log record'}"
      ]
     },
     "execution_count": 66,
     "metadata": {},
     "output_type": "execute_result"
    }
   ],
   "source": [
    "response  = requests.get(\"https://qep-turing-api.azurewebsites.net/tables/transformed/columns/list?table_name=task3&project_id=4&version=4\")\n",
    "response.json()"
   ]
  },
  {
   "cell_type": "markdown",
   "id": "c0420471",
   "metadata": {},
   "source": [
    "### List of all the Models along with their Keys"
   ]
  },
  {
   "cell_type": "code",
   "execution_count": 28,
   "id": "10dbc201",
   "metadata": {},
   "outputs": [
    {
     "name": "stdout",
     "output_type": "stream",
     "text": [
      "{'models': {'M1': 'Logistic Regression', 'M2': 'Random Forest', 'M3': 'Linear Regression', 'M5': 'AutoML Regression', 'M6': 'AutoML Classification', 'M00': 'Linear Regression Demo'}}\n"
     ]
    }
   ],
   "source": [
    "response=requests.get(\"https://qep-turing-api.azurewebsites.net/models/keylist\")\n",
    "print(response.json())"
   ]
  },
  {
   "cell_type": "markdown",
   "id": "6b6e68c5",
   "metadata": {},
   "source": [
    "### Get a Particular Model"
   ]
  },
  {
   "cell_type": "code",
   "execution_count": 31,
   "id": "7cb4a51e",
   "metadata": {},
   "outputs": [
    {
     "name": "stdout",
     "output_type": "stream",
     "text": [
      "{'_id': {'$oid': '6228b1a3af62bde984049d82'}, 'model': 'Linear Regression', 'model_key': 'M3', 'version': '0.1.0', 'keys': ['source', 'target column', 'Train split ratio', 'maxIter', 'regParam', 'elasticNetParam', 'tol', 'fitIntercept', 'standardization', 'solver', 'weightCol', 'aggregationDepth', 'loss', 'epsilon', 'maxBlockSizeInMB'], 'parameters': [{'key_name': 'source', 'key_type': 'string', 'key_description': 'Select the name of the table that needs to passed for the model train', 'optional': False, 'custom_dropdown': False, 'dropdown_source': 'tables'}, {'key_name': 'target column', 'key_type': 'string', 'key_description': 'Select the name of the target column that needs to passed for the model train', 'optional': False, 'custom_dropdown': False, 'dropdown_source': 'columns'}, {'key_name': 'Train split ratio', 'key_type': 'float', 'key_description': 'Enter split ratio of the dataset for model train', 'optional': False}, {'key_name': 'maxIter', 'key_type': 'integer', 'key_description': 'Enter the maximum number of iterations', 'optional': True}, {'key_name': 'regParam', 'key_type': 'float', 'key_description': 'Enter the Regularization Parameter', 'optional': True}, {'key_name': 'elasticNetParam', 'key_type': 'float', 'key_description': 'Enter the ElasticNet mixing parameter', 'optional': True}, {'key_name': 'tol', 'key_type': 'float', 'key_description': 'Enter the convergence tolerance for iterative algorithms (>= 0)', 'optional': True}, {'key_name': 'fitIntercept', 'key_type': 'boolean', 'key_description': 'Enter whether to fit an intercept term', 'optional': True, 'custom_dropdown': True, 'options': [{'name': True}, {'name': False}]}, {'key_name': 'standardization', 'key_type': 'boolean', 'key_description': 'Enter whether to standardize the training features before fitting the model.', 'optional': True, 'custom_dropdown': True, 'options': [{'name': True}, {'name': False}]}, {'key_name': 'solver', 'key_type': 'string', 'key_description': 'Enter the solver algorithm for optimization', 'optional': True, 'custom_dropdown': True, 'options': [{'name': 'auto'}, {'name': 'normal'}, {'name': 'l-bfgs'}]}, {'key_name': 'weightCol', 'key_type': 'string', 'key_description': 'Enter the weight column name. If this is not set or empty, we treat all instance weights as 1.0.', 'optional': True, 'custom_dropdown': False, 'dropdown_source': 'columns'}, {'key_name': 'aggregationDepth', 'key_type': 'integer', 'key_description': 'Enter suggested depth for treeAggregate (>= 2)', 'optional': True}, {'key_name': 'loss', 'key_type': 'string', 'key_description': 'Enter the loss function to be optimized', 'optional': True, 'custom_dropdown': True, 'options': [{'name': 'squaredError'}, {'name': 'huber'}]}, {'key_name': 'epsilon', 'key_type': 'float', 'key_description': 'Enter the shape parameter to control the amount of robustness. Must be > 1.0. Only valid when loss is huber', 'optional': True}, {'key_name': 'maxBlockSizeInMB', 'key_type': 'float', 'key_description': 'Enter maximum memory in MB for stacking input data into blocks. Data is stacked within partitions. If more than remaining data size in a partition then it is adjusted to the data size. Default 0.0 represents choosing optimal value, depends on specific algorithm. Must be >= 0.', 'optional': True}]}\n"
     ]
    }
   ],
   "source": [
    "response=requests.get(\"https://qep-turing-api.azurewebsites.net/models/schema/list?model_key=M3\")\n",
    "print(response.json())"
   ]
  },
  {
   "cell_type": "markdown",
   "id": "abe5a2c9",
   "metadata": {},
   "source": [
    "### Model Training"
   ]
  },
  {
   "cell_type": "code",
   "execution_count": 55,
   "id": "eba497e7",
   "metadata": {},
   "outputs": [
    {
     "data": {
      "text/plain": [
       "<Response [200]>"
      ]
     },
     "execution_count": 55,
     "metadata": {},
     "output_type": "execute_result"
    }
   ],
   "source": [
    "training_data = {\n",
    "  \"project_id\": \"4\",\n",
    "  \"project_version\": 3,\n",
    "  \"model_key\": \"M3\",\n",
    "  \"model_name\": \"LinearRegressionFinalTest1\",\n",
    "  \"feature_column\": \"scaled_MM_features\",\n",
    "  \"target_column\": \"ActivePower\",\n",
    "  \"train_split_ratio\": 0.8,\n",
    "  \"transformed_table_name\": \"task3\",\n",
    "  \"hyperparameters\": {}\n",
    "}\n",
    "response=requests.post(\"https://qep-turing-api.azurewebsites.net/model_train/run\",json = training_data)\n",
    "response"
   ]
  },
  {
   "cell_type": "code",
   "execution_count": null,
   "id": "109b5646",
   "metadata": {},
   "outputs": [],
   "source": []
  }
 ],
 "metadata": {
  "kernelspec": {
   "display_name": "Python 3 (ipykernel)",
   "language": "python",
   "name": "python3"
  },
  "language_info": {
   "codemirror_mode": {
    "name": "ipython",
    "version": 3
   },
   "file_extension": ".py",
   "mimetype": "text/x-python",
   "name": "python",
   "nbconvert_exporter": "python",
   "pygments_lexer": "ipython3",
   "version": "3.9.7"
  }
 },
 "nbformat": 4,
 "nbformat_minor": 5
}
